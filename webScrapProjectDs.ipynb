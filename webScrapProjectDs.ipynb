{
 "cells": [
  {
   "cell_type": "markdown",
   "id": "98d2418f-a37b-48fd-8499-f09d13f3a147",
   "metadata": {
    "tags": []
   },
   "source": [
    "<center><h1>Game Review: Exploring the game review from the internet</h1></center>"
   ]
  },
  {
   "cell_type": "markdown",
   "id": "229be770-880d-4bde-b6b8-bae63ec14192",
   "metadata": {
    "jp-MarkdownHeadingCollapsed": true,
    "tags": []
   },
   "source": [
    "<h2>Introduction:</h2>\n",
    "\n",
    "<p>We’re living in 21st century and in today’s world there are many businesses running ranging from small scale to large scale. Different businesses produce different products. A few examples include gaming companies releasing different games. It can be an article or a novel. The it industry releasing new and upgraded products. Almost every years apple release its latest phone. Once the product is released it is important for the company to know how well the product is received by the consumer markets. This very sentiment analysis comes in. When the company gets the feedback from the consumer market they can use it to further upgrade and improve their products to fulfill the user needs.\n",
    "The major goal of this project is to use pyton and its libraries and jupyter notebook to do sentiment analysis of something. Sentiment analysis show the emotions on the public for a specific thing. For my project I’ve chose a to do sentimental analysis for the gaming industry. I’ll do web scrapping to get data from the web. This data will include revieww for a gamesreleased. I’ll use 3 different reviews for 3 different games. After scrapping other data techniques will be applied that include natural language process,data cleaning, producing useful outputs from the gathered data.  To my knowledge this is a unique topic which I’ll explore in depth. I’ve used gaming industry as an example but in future this sentiment anakysis can be done on other industry products, release and also sentiment analysis about a public figure.</p>\n",
    "\n",
    "<h2>Goals to achieve:</h2>\n",
    "\n",
    "<ul>\n",
    "  <li>The outcome on this project includes certain goal.</li>\n",
    "  <li>To be able to extract the data from a source on the internet and make the data useful.</li>\n",
    "  <li>To clean the data and remove certain unnecessary elements that are not required in the outcome. This will allow the program to be faster and to take less memory space.</li>\n",
    "    <li>To differentiate between data and save it separately, e.g author name, date, review text.</li>\n",
    "    <li>To measure the data in different ways in order to produce and outcome.</li>\n",
    "    <li>To figure out if the data indicates positivity or negativity, or it is neutral.</li>\n",
    "</ul>\n",
    "\n",
    "<h2>Data:</h2>\n",
    "\n",
    "<p>For 3 different games from different authors. Also I’ve only taken limited amount of data for this project, this can be increased also and all the data can be taken. But to make the visualizations easier to read I took limited data. All these three reviews take equal amount of data. Some data is also categorized such as title, author, data publish and the review text. I’ve imported some very efficient and easily available python libraries that is applied on the data. </p>\n",
    "\n",
    "<h2>Review chosen:</h2>\n",
    "\n",
    "<p>The source of the data is from one single site polygon.com. Three different game reviews were used which were published by 3 different author on different dates. Polygon is an entertainment website that also contain gaming articles. It publishes game reviews, and with that it also updates news about the gaming industry. It’s considered one of the popular websites in regards to the game reviews. Ploygon.com has been on the internet for last 10 years and have a great audience. I had also intended to use data from some other website but couldn’t do it beause I wasn’t authorized.</p>\n",
    "\n",
    "<h2>Data and Time Limitations</h2>\n",
    "\n",
    "<p>Reviews taken for this project are released in the span of last 2 years, and I’ve taken this into account that the reviews is uploaded after some time of the game’s release so that it can be assured that the review wasn’t delivered in an urgency. The reviews might indicate how does the author finds a game i.e he finds the game worth it or not.\n",
    "I originally wanted to take reviews from a website that contains multiple reviews of a game submitted by gamers around the world. They were shorter in length compared to the reviews I’ve used so they would’ve been easily used for this project. But I wasn’t given the right to access the data from the website and I couldn’t wait to get rights to use data as I was short on time. So finally I had to change my choice to a site that contains longer reviews. They are difficult to work with as they have too many words and the graphs get over filled by the values.</p>\n",
    "\n",
    "\n",
    "<h2>Ethical Approach</h2>\n",
    "\n",
    "<p>The website i've used to scrap the data is polygon.com and they don't forbid wescraping. This is one of the reasons i've chosen it since the website i originally planned for web scrapping didn't allow it.\n",
    "I've tried to make sure date the data is not used in a harmful way but only used to produce an output that is good for everyone and does no harm.</p>"
   ]
  },
  {
   "cell_type": "markdown",
   "id": "3880e7b6-74e0-4b59-a54c-e493b28cae71",
   "metadata": {},
   "source": [
    "<h2>Impacts of the project:</h2>\n",
    "<p>This sentimental analysis project is created after taking consideration it's potential pro and cons.I'll only perform data science techniques to present how the author feels about a certain game.</p>\n",
    "\n",
    "<h2>Step 1: Importing the required python libraries</h2>\n",
    "<p>Python is a widely used language and many of its tools such as libraries are available online. These are available on the internet and can be easily used in the code to make coding easier by doing time consuming tasks esaily.\n",
    "Firstly i'm importing all the important libraries i'll be using in this project. I've tried to list all of them below and if i forget any i'll just import it when required.</p>"
   ]
  },
  {
   "cell_type": "code",
   "execution_count": 796,
   "id": "534c3bca-defd-4d11-a2fc-1a2426011077",
   "metadata": {},
   "outputs": [
    {
     "name": "stderr",
     "output_type": "stream",
     "text": [
      "[nltk_data] Downloading package omw-1.4 to\n",
      "[nltk_data]     /Users/rafayshahood/nltk_data...\n",
      "[nltk_data]   Package omw-1.4 is already up-to-date!\n"
     ]
    }
   ],
   "source": [
    "# Import libraries and modules\n",
    "from bs4 import BeautifulSoup\n",
    "import requests\n",
    "\n",
    "import pandas as pd\n",
    "\n",
    "from nltk.tokenize import word_tokenize\n",
    "from nltk.corpus import stopwords\n",
    "from nltk.stem import WordNetLemmatizer\n",
    "from nltk.sentiment.vader import SentimentIntensityAnalyzer\n",
    "\n",
    "import re\n",
    "\n",
    "import nltk\n",
    "nltk.download('omw-1.4')\n",
    "\n",
    "from sklearn.model_selection import train_test_split\n",
    "\n",
    "import matplotlib.pyplot as plt\n",
    "\n",
    "import tensorflow\n",
    "from tensorflow.keras.utils import to_categorical\n",
    "from tensorflow.keras.models import Sequential\n",
    "from tensorflow.keras.preprocessing.text import Tokenizer\n",
    "from tensorflow.keras.preprocessing.sequence import pad_sequences  \n",
    "from tensorflow.keras.layers import Embedding, Bidirectional, BatchNormalization, Dense, Flatten, Dropout, LSTM\n",
    "\n",
    "senti = SentimentIntensityAnalyzer()\n",
    "lemmatizer = WordNetLemmatizer()"
   ]
  },
  {
   "cell_type": "markdown",
   "id": "f19bcf4b-cf23-4e46-a070-cc33497463aa",
   "metadata": {},
   "source": [
    "<h2>Step 2: Web Scrapping</h2>\n",
    "<p>Web scrapping is getting the data from the web. I've applied techniques to get the data from different links. These links are of 3 different reviews of different games byt from a single source polygon.com I've created 3 different functions to get data from the website and the categorize it by title, author, date and review. Another function is created that requests the web page to access its content.These functions will be called later\n",
    "I've also created a list that contains the url on the reviews</p>"
   ]
  },
  {
   "cell_type": "code",
   "execution_count": 797,
   "id": "f85d5809-c340-4fe5-8307-342b39bcd014",
   "metadata": {},
   "outputs": [],
   "source": [
    "def watchDogsLegion(data):\n",
    "    \n",
    "    # Extract article title\n",
    "    title = data.find(\"h1\",{'class': 'c-page-title'})\n",
    "    title = title.get_text()\n",
    "\n",
    "    # Extract article author\n",
    "    author = data.find('span',{'class': 'c-byline__author-name'})\n",
    "    author = author.get_text()\n",
    "\n",
    "    #Extract article release date\n",
    "    date = data.find('time',{'class': 'c-byline__item'})\n",
    "    date = date.get_text()\n",
    "    \n",
    "    # Extract article text\n",
    "    article = data.find_all(\"p\")\n",
    "\n",
    "    # Complile all article text into one string and ensure there is 1 space between each word\n",
    "    article_text = ''\n",
    "    for content in article:\n",
    "        article_text = article_text + ' ' + content.get_text().lstrip().rstrip()\n",
    "\n",
    "        \n",
    "    return title, author, date, article_text[1:1000]\n",
    "\n",
    "\n",
    "def redDeadRedemption2(data):\n",
    "    \n",
    "    # Extract article title\n",
    "    title = data.find(\"h1\",{'class': 'c-page-title'})\n",
    "    title = title.get_text()\n",
    "\n",
    "    # Extract article author\n",
    "    author = data.find('span',{'class': 'c-byline__author-name'})\n",
    "    author = author.get_text()\n",
    "\n",
    "    #Extract article release date\n",
    "    date = data.find('time',{'class': 'c-byline__item'})\n",
    "    date = date.get_text()\n",
    "    \n",
    "    # Extract article text\n",
    "    article = data.find_all(\"p\")\n",
    "\n",
    "    # Complile all article text into one string and ensure there is 1 space between each word\n",
    "    article_text = ''\n",
    "    for content in article:\n",
    "        article_text = article_text + ' ' + content.get_text().lstrip().rstrip()\n",
    "\n",
    "\n",
    "        \n",
    "    return title, author, date, article_text[1:1000]\n",
    "\n",
    "\n",
    "\n",
    "def ghostOfTsushima(data):\n",
    "    \n",
    "    # Extract article title\n",
    "    title = data.find(\"h1\",{'class': 'c-page-title'})\n",
    "    title = title.get_text()\n",
    "\n",
    "    # Extract article author\n",
    "    author = data.find('span',{'class': 'c-byline__author-name'})\n",
    "    author = author.get_text()\n",
    "\n",
    "    #Extract article release date\n",
    "    date = data.find('time',{'class': 'c-byline__item'})\n",
    "    date = date.get_text()\n",
    "    \n",
    "    # Extract article text\n",
    "    article = data.find_all(\"p\")\n",
    "\n",
    "    # Complile all article text into one string and ensure there is 1 space between each word\n",
    "    article_text = ''\n",
    "    for content in article:\n",
    "        article_text = article_text + ' ' + content.get_text().lstrip().rstrip()\n",
    "\n",
    "\n",
    "        \n",
    "    return title, author, date, article_text[1:1000]\n",
    "\n",
    "\n",
    "#Function to get parsed content of a website from a url\n",
    "def getWebContent(url):\n",
    "    headers = {\"user-agent\":\"Mozilla/5.0 (X11; Linux x86_64) AppleWebKit/537.36 (KHTML, like Gecko) Chrome/61.0.3163.100 Safari/537.36\"}  \n",
    "    r  = requests.get(url,headers)\n",
    "    \n",
    "    if r.status_code == 200:\n",
    "        content = r.content\n",
    "    else:\n",
    "        data= \"data error\"\n",
    "\n",
    "    # parsing the raw HTML into a `data' object\n",
    "    data = BeautifulSoup(r.content, \"html.parser\")\n",
    "\n",
    "    return data\n",
    "\n",
    "urls = [\n",
    "'https://www.polygon.com/reviews/2020/10/28/21537488/watch-dogs-legion-review-best-characters-skills-play-as-anyone-ps4-ps5-xbox-one-series-x-pc',\n",
    "'https://www.polygon.com/reviews/2018/10/25/18021034/red-dead-redemption-2-review',\n",
    "'https://www.polygon.com/reviews/2020/7/14/21322970/ghost-of-tsushima-review-ps4-kurosawa-mode']\n"
   ]
  },
  {
   "cell_type": "markdown",
   "id": "a1aabca2-21d0-46b6-ac4f-451a9011edcd",
   "metadata": {},
   "source": [
    "<h4>The data fetched from the website is categorized here.A loop is used to get all the urls and then run the function to access the data. Functions are called if a user requirement is met. When a url is unknown a message is displayed saying the url cannot be used for web scrapping</h4>"
   ]
  },
  {
   "cell_type": "code",
   "execution_count": 798,
   "id": "ea855b93-261d-4a6b-b42e-de7fa6858187",
   "metadata": {},
   "outputs": [
    {
     "name": "stderr",
     "output_type": "stream",
     "text": [
      "/var/folders/x_/v99pk34d2mn8gxdv5c_b45740000gp/T/ipykernel_29962/4213995160.py:32: FutureWarning: The frame.append method is deprecated and will be removed from pandas in a future version. Use pandas.concat instead.\n",
      "  scraped_data = scraped_data.append(article_info, ignore_index=True)\n",
      "/var/folders/x_/v99pk34d2mn8gxdv5c_b45740000gp/T/ipykernel_29962/4213995160.py:32: FutureWarning: The frame.append method is deprecated and will be removed from pandas in a future version. Use pandas.concat instead.\n",
      "  scraped_data = scraped_data.append(article_info, ignore_index=True)\n",
      "/var/folders/x_/v99pk34d2mn8gxdv5c_b45740000gp/T/ipykernel_29962/4213995160.py:32: FutureWarning: The frame.append method is deprecated and will be removed from pandas in a future version. Use pandas.concat instead.\n",
      "  scraped_data = scraped_data.append(article_info, ignore_index=True)\n"
     ]
    }
   ],
   "source": [
    "#Scrape Data and save to dataframe\n",
    "\n",
    "scraped_data = pd.DataFrame(columns=['URL_ID', 'Title', 'Author', 'Date', 'Text'])\n",
    "\n",
    "for url in urls:\n",
    "    \n",
    "    # Check webpage is accessible and get parsed webpage, if not accessible data will be returned as 'error'\n",
    "    data = getWebContent(url)\n",
    "    \n",
    "    # If there was an error accessing the webpage, continue onto next iteration of loop\n",
    "    if data == 'data error':\n",
    "        print(\"There was an error, as a result data could not be fetched\", url)\n",
    "        continue\n",
    "    \n",
    "    \n",
    "    # If url is from a publication we have planned to scrape, extract information using appropriate function\n",
    "    if url == 'https://www.polygon.com/reviews/2020/10/28/21537488/watch-dogs-legion-review-best-characters-skills-play-as-anyone-ps4-ps5-xbox-one-series-x-pc':\n",
    "        title, author, date, article_text = watchDogsLegion(data)\n",
    "        game_name = 'Watchdogs Legion'\n",
    "    elif url == 'https://www.polygon.com/reviews/2018/10/25/18021034/red-dead-redemption-2-review':\n",
    "        title, author, date, article_text = redDeadRedemption2(data)\n",
    "        game_name = 'Red Dead Redemption 2'\n",
    "    elif url == 'https://www.polygon.com/reviews/2020/7/14/21322970/ghost-of-tsushima-review-ps4-kurosawa-mode':\n",
    "        title, author, date, article_text = ghostOfTsushima(data)\n",
    "        game_name = 'Ghost Of Tshushima'\n",
    "\n",
    "    else:\n",
    "        print(\"This url cannot be used fro data scrapping\", url)\n",
    "        continue\n",
    "    \n",
    "    article_info = {'URL_ID': url, 'Source': game_name, 'Title': title, 'Author': author, 'Date': date , 'Text': article_text}\n",
    "    scraped_data = scraped_data.append(article_info, ignore_index=True)"
   ]
  },
  {
   "cell_type": "markdown",
   "id": "d0fdc2d5-68be-48a5-8a8d-128823aa1655",
   "metadata": {},
   "source": [
    "<h4>The data is measured to get its title length and text length and a loop is used to produce a useful outcome.</h4>"
   ]
  },
  {
   "cell_type": "code",
   "execution_count": 799,
   "id": "351bf1b4-6867-48bb-9110-8591dda19011",
   "metadata": {},
   "outputs": [
    {
     "data": {
      "text/html": [
       "<div>\n",
       "<style scoped>\n",
       "    .dataframe tbody tr th:only-of-type {\n",
       "        vertical-align: middle;\n",
       "    }\n",
       "\n",
       "    .dataframe tbody tr th {\n",
       "        vertical-align: top;\n",
       "    }\n",
       "\n",
       "    .dataframe thead th {\n",
       "        text-align: right;\n",
       "    }\n",
       "</style>\n",
       "<table border=\"1\" class=\"dataframe\">\n",
       "  <thead>\n",
       "    <tr style=\"text-align: right;\">\n",
       "      <th></th>\n",
       "      <th>Text Length</th>\n",
       "      <th>Title Length</th>\n",
       "    </tr>\n",
       "  </thead>\n",
       "  <tbody>\n",
       "    <tr>\n",
       "      <th>count</th>\n",
       "      <td>3.0</td>\n",
       "      <td>3.0</td>\n",
       "    </tr>\n",
       "    <tr>\n",
       "      <th>mean</th>\n",
       "      <td>166.3</td>\n",
       "      <td>8.0</td>\n",
       "    </tr>\n",
       "    <tr>\n",
       "      <th>std</th>\n",
       "      <td>5.5</td>\n",
       "      <td>3.0</td>\n",
       "    </tr>\n",
       "    <tr>\n",
       "      <th>min</th>\n",
       "      <td>161.0</td>\n",
       "      <td>5.0</td>\n",
       "    </tr>\n",
       "    <tr>\n",
       "      <th>25%</th>\n",
       "      <td>163.5</td>\n",
       "      <td>6.5</td>\n",
       "    </tr>\n",
       "    <tr>\n",
       "      <th>50%</th>\n",
       "      <td>166.0</td>\n",
       "      <td>8.0</td>\n",
       "    </tr>\n",
       "    <tr>\n",
       "      <th>75%</th>\n",
       "      <td>169.0</td>\n",
       "      <td>9.5</td>\n",
       "    </tr>\n",
       "    <tr>\n",
       "      <th>max</th>\n",
       "      <td>172.0</td>\n",
       "      <td>11.0</td>\n",
       "    </tr>\n",
       "  </tbody>\n",
       "</table>\n",
       "</div>"
      ],
      "text/plain": [
       "       Text Length  Title Length\n",
       "count          3.0           3.0\n",
       "mean         166.3           8.0\n",
       "std            5.5           3.0\n",
       "min          161.0           5.0\n",
       "25%          163.5           6.5\n",
       "50%          166.0           8.0\n",
       "75%          169.0           9.5\n",
       "max          172.0          11.0"
      ]
     },
     "execution_count": 799,
     "metadata": {},
     "output_type": "execute_result"
    }
   ],
   "source": [
    "# Calculate length (number of words) of each article title and text, add to dataframe\n",
    "\n",
    "scraped_data['Text Length'] = 0\n",
    "scraped_data['Title Length'] = 0\n",
    "\n",
    "for i in range(0, len(scraped_data)):\n",
    "    text_len = len(scraped_data['Text'][i].split(' '))\n",
    "    title_len = len(scraped_data['Title'][i].split(' '))\n",
    "    scraped_data.loc[i,['Text Length']] = text_len\n",
    "    scraped_data.loc[i,['Title Length']] = title_len\n",
    "    \n",
    "scraped_data.describe().round(1)"
   ]
  },
  {
   "cell_type": "markdown",
   "id": "1b79fe06-8b60-4587-87a9-f1f3886162ca",
   "metadata": {},
   "source": [
    "<h4>Conditional statement is used to check if data from the web is successfully scraped. A message is given in case the data is successfuly scraped or if data couldn't be fetched</h4>"
   ]
  },
  {
   "cell_type": "code",
   "execution_count": 800,
   "id": "cb40ce01-54be-4adf-b1b5-fc7086eb65e1",
   "metadata": {},
   "outputs": [
    {
     "name": "stdout",
     "output_type": "stream",
     "text": [
      "All articles scraped and inserted into scraped_data.\n"
     ]
    }
   ],
   "source": [
    "if len(urls) == len(scraped_data):\n",
    "    print(\"All articles scraped and inserted into scraped_data.\")\n",
    "else:\n",
    "    print(len(urls)-len(scraped_data), \"articles were not scraped correctly and were not entered into scraped_data.\")"
   ]
  },
  {
   "cell_type": "markdown",
   "id": "d4282e43-0146-4b49-beab-664f93014181",
   "metadata": {},
   "source": [
    "<h4>To make sure the data is validated these operations are done</h4>"
   ]
  },
  {
   "cell_type": "code",
   "execution_count": 801,
   "id": "15477fc2-bd01-42d0-b682-4fb9aaeaea1b",
   "metadata": {},
   "outputs": [
    {
     "name": "stdout",
     "output_type": "stream",
     "text": [
      "There is no missing (null, NA, NaN) data in the scraped_data dataframe.\n"
     ]
    }
   ],
   "source": [
    "missing_values_total = 0\n",
    "\n",
    "for column in scraped_data:\n",
    "    num_missing = scraped_data[column].isna().sum()\n",
    "    missing_values_total =+ num_missing\n",
    "    if num_missing > 0:\n",
    "        print(column, \"has\", num_missing, \"pieces of missing (null, NA, NaN) data.\")\n",
    "        \n",
    "if missing_values_total == 0:\n",
    "    print(\"There is no missing (null, NA, NaN) data in the scraped_data dataframe.\")\n",
    "else:\n",
    "    print(\"Total of\", missing_values_total, \"pieces of missing (null, NA, NaN) data in scrapped data.\")  \n",
    "    \n",
    "# Check title and text word count\n",
    "if scraped_data['Text Length'].min() < 100:\n",
    "    print(\"article out bounds - less words .\")\n",
    "    \n",
    "if scraped_data['Text Length'].min() > 200:\n",
    "    print(\"article out bounds - less words \")\n"
   ]
  },
  {
   "cell_type": "markdown",
   "id": "19d99ac8-2092-4eac-84af-b1f07f6e3f27",
   "metadata": {},
   "source": [
    "<h3>The scrapped data is shown in a table and inside the table it can be seen that the data is categorized.</h3>"
   ]
  },
  {
   "cell_type": "code",
   "execution_count": 802,
   "id": "95c97380-094e-40c6-8393-1f6dbb2b983f",
   "metadata": {},
   "outputs": [
    {
     "data": {
      "text/html": [
       "<div>\n",
       "<style scoped>\n",
       "    .dataframe tbody tr th:only-of-type {\n",
       "        vertical-align: middle;\n",
       "    }\n",
       "\n",
       "    .dataframe tbody tr th {\n",
       "        vertical-align: top;\n",
       "    }\n",
       "\n",
       "    .dataframe thead th {\n",
       "        text-align: right;\n",
       "    }\n",
       "</style>\n",
       "<table border=\"1\" class=\"dataframe\">\n",
       "  <thead>\n",
       "    <tr style=\"text-align: right;\">\n",
       "      <th></th>\n",
       "      <th>URL_ID</th>\n",
       "      <th>Title</th>\n",
       "      <th>Author</th>\n",
       "      <th>Date</th>\n",
       "      <th>Text</th>\n",
       "      <th>Source</th>\n",
       "      <th>Text Length</th>\n",
       "      <th>Title Length</th>\n",
       "    </tr>\n",
       "  </thead>\n",
       "  <tbody>\n",
       "    <tr>\n",
       "      <th>0</th>\n",
       "      <td>https://www.polygon.com/reviews/2020/10/28/215...</td>\n",
       "      <td>Watch Dogs: Legion’s cast of randos makes a su...</td>\n",
       "      <td>Owen S. Good</td>\n",
       "      <td>\\n  Oct 28, 2020,  7:01am EDT\\n</td>\n",
       "      <td>Filed under: Play it with permadeath stakes, o...</td>\n",
       "      <td>Watchdogs Legion</td>\n",
       "      <td>166</td>\n",
       "      <td>11</td>\n",
       "    </tr>\n",
       "    <tr>\n",
       "      <th>1</th>\n",
       "      <td>https://www.polygon.com/reviews/2018/10/25/180...</td>\n",
       "      <td>Red Dead Redemption 2 review</td>\n",
       "      <td>Chris Plante</td>\n",
       "      <td>\\n  Oct 26, 2018, 10:06am EDT\\n</td>\n",
       "      <td>Filed under: Red Dead Redemption 2 is one of t...</td>\n",
       "      <td>Red Dead Redemption 2</td>\n",
       "      <td>172</td>\n",
       "      <td>5</td>\n",
       "    </tr>\n",
       "    <tr>\n",
       "      <th>2</th>\n",
       "      <td>https://www.polygon.com/reviews/2020/7/14/2132...</td>\n",
       "      <td>Ghost of Tsushima review: You’ve played this b...</td>\n",
       "      <td>Carolyn Petit</td>\n",
       "      <td>\\n  Jul 14, 2020, 10:00am EDT\\n</td>\n",
       "      <td>Filed under: A great setting let down by rote ...</td>\n",
       "      <td>Ghost Of Tshushima</td>\n",
       "      <td>161</td>\n",
       "      <td>8</td>\n",
       "    </tr>\n",
       "  </tbody>\n",
       "</table>\n",
       "</div>"
      ],
      "text/plain": [
       "                                              URL_ID  \\\n",
       "0  https://www.polygon.com/reviews/2020/10/28/215...   \n",
       "1  https://www.polygon.com/reviews/2018/10/25/180...   \n",
       "2  https://www.polygon.com/reviews/2020/7/14/2132...   \n",
       "\n",
       "                                               Title         Author  \\\n",
       "0  Watch Dogs: Legion’s cast of randos makes a su...   Owen S. Good   \n",
       "1                       Red Dead Redemption 2 review   Chris Plante   \n",
       "2  Ghost of Tsushima review: You’ve played this b...  Carolyn Petit   \n",
       "\n",
       "                              Date  \\\n",
       "0  \\n  Oct 28, 2020,  7:01am EDT\\n   \n",
       "1  \\n  Oct 26, 2018, 10:06am EDT\\n   \n",
       "2  \\n  Jul 14, 2020, 10:00am EDT\\n   \n",
       "\n",
       "                                                Text                 Source  \\\n",
       "0  Filed under: Play it with permadeath stakes, o...       Watchdogs Legion   \n",
       "1  Filed under: Red Dead Redemption 2 is one of t...  Red Dead Redemption 2   \n",
       "2  Filed under: A great setting let down by rote ...     Ghost Of Tshushima   \n",
       "\n",
       "   Text Length  Title Length  \n",
       "0          166            11  \n",
       "1          172             5  \n",
       "2          161             8  "
      ]
     },
     "execution_count": 802,
     "metadata": {},
     "output_type": "execute_result"
    }
   ],
   "source": [
    "scraped_data"
   ]
  },
  {
   "cell_type": "markdown",
   "id": "45823735-2d72-45a2-9f5c-7a748bd98fe8",
   "metadata": {},
   "source": [
    "<h3>loop is run to display the fetched data</h3>"
   ]
  },
  {
   "cell_type": "code",
   "execution_count": 803,
   "id": "8a06ef91-c5c9-422c-a3b2-5e31cace85fc",
   "metadata": {},
   "outputs": [
    {
     "name": "stdout",
     "output_type": "stream",
     "text": [
      "Filed under: Play it with permadeath stakes, on hard difficulty Watch Dogs: Legion’s elevator pitch to the player gave me pause. Play as anyone, say the marketers, touting your ability to recruit literally anyone you meet on the street to your cyber-hacktivist cause. That’s great, but absent pre-written player characters, developing in and changed by a narrative, would that mean I’d care about no one? Then Blake McCleary, my 58-year-old industrial designer, chugged a couple of eisbocks in a pub in Southwark, threw a round of darts, and went off to his next assignment for DedSec. McCleary was assigned to rescue Lydia Anderson, a stage magician whose talent is using hypnosis to turn a foe friendly. Anderson is also a gambling addict with bad debts, which led to her kidnapping. McCleary easily slipped inside the gangster hideout where Anderson was being held. The core gameplay loop of Watch Dogs: Legion — sneak around, get the drop on the goons, stroll out triumphantly — is enjoyable eno\n",
      "Filed under: Red Dead Redemption 2 is one of the weirdest, most ambitious and confounding big-budget games of this decade Early in Red Dead Redemption 2, I meet a has-been gunslinger crumpled over a grimy bar in a livestock town on the outer fringe of the American West. He goes by Boy Calloway, but the codger’s a long way from that persona geographically, temporally, mentally. Aside Calloway sits his would-be biographer, in need of my services. Unable to squeeze a cogent anecdote from this puckered lemon, the author requests that I locate the living members of Calloway’s crew to gather stories of his former greatness, or strike dead those who would dispute the book’s “authenticity.” The assignment — like much of the game —  is optional, but I take it, figuring I’ll meet some legendary cowboys and gunslingers. That’s not quite what happens. Red Dead Redemption 2 is a prequel to the 2010 open-world Western, but I hesitate to say that it shares the genre. Like Calloway’s quest, the game \n",
      "Filed under: A great setting let down by rote design Ghost of Tsushima, the new open-world adventure from Infamous developer Sucker Punch Productions, has a wonderful asset in the island setting that gives the game its name. This fictionalized version of Tsushima is a vast, beautiful place thankfully not limited by strict adherence to historical or geographical accuracy, but instead tinged with myth and magic. Unfortunately, the gameplay that takes up your time on Tsushima is overly safe and familiar, resulting in a game that’s packed with lovely spots to discover and offers moments of peaceful reflection, yet still struggles to differentiate itself from numerous other open-world adventures. Ghost of Tsushima begins as an era of stability and prosperity for the samurai ends. The game is set in 1274, the year of the first Mongol invasion of Japan. The intelligent and brutal Mongol chieftain Khotun Khan, a fictional figure positioned here as the grandson of Genghis Khan, aims to use the\n"
     ]
    }
   ],
   "source": [
    "# Review article text to ensure no obvious issues are visible\n",
    "for i in range(0, len(scraped_data)):\n",
    "    print(scraped_data['Text'][i])"
   ]
  },
  {
   "cell_type": "markdown",
   "id": "c994f9fb-e697-4ef2-9190-f4ae8ea6316f",
   "metadata": {},
   "source": [
    "<h3>As the websites continually change the review canbe altered or removed from the web later. So i've saved the data inside a csv file so that the data is not lost.</h3>"
   ]
  },
  {
   "cell_type": "code",
   "execution_count": 804,
   "id": "7d0e3329-ae6b-4bd3-a193-d899d4a9bcfb",
   "metadata": {},
   "outputs": [],
   "source": [
    " scraped_data.to_csv('reviews.csv')"
   ]
  },
  {
   "cell_type": "markdown",
   "id": "1d62cd40-9567-49e2-915e-3205296380ad",
   "metadata": {},
   "source": [
    "<h3>Now the saved csv file is called to get the data</h3>"
   ]
  },
  {
   "cell_type": "code",
   "execution_count": 805,
   "id": "2f3a77ea-1088-4b72-bc4d-249d46d2ec68",
   "metadata": {},
   "outputs": [],
   "source": [
    "# Read previously scraped data\n",
    "reviews = pd.read_csv('reviews.csv')"
   ]
  },
  {
   "cell_type": "markdown",
   "id": "63b88f2a-8817-4083-aa15-3251f5fd77ba",
   "metadata": {},
   "source": [
    "<h3>Step 2: Data processing and cleaning</h3>"
   ]
  },
  {
   "cell_type": "markdown",
   "id": "2750c8d7-afed-4329-9451-06fdda061147",
   "metadata": {},
   "source": [
    "<h4>Now we find the sentiment score of each review and then save it to a variable. The variable is added to the table</h4>"
   ]
  },
  {
   "cell_type": "code",
   "execution_count": 806,
   "id": "7f5bd586-95b2-4a08-ab92-66cd06f4e2a3",
   "metadata": {},
   "outputs": [],
   "source": [
    "#To get sentiment score\n",
    "polarity = [round(senti.polarity_scores(i)['compound'], 2) for i in reviews['Text']]\n",
    "reviews['sentiment_score'] = polarity"
   ]
  },
  {
   "cell_type": "markdown",
   "id": "816645ff-c01d-4df7-9dee-e63d72c05a82",
   "metadata": {},
   "source": [
    "<h4>The scrapped data is matched and shown using the decribe function.</h4>"
   ]
  },
  {
   "cell_type": "code",
   "execution_count": 807,
   "id": "1cf96a49-d18b-49c3-bc36-e579f43da742",
   "metadata": {},
   "outputs": [
    {
     "data": {
      "text/html": [
       "<div>\n",
       "<style scoped>\n",
       "    .dataframe tbody tr th:only-of-type {\n",
       "        vertical-align: middle;\n",
       "    }\n",
       "\n",
       "    .dataframe tbody tr th {\n",
       "        vertical-align: top;\n",
       "    }\n",
       "\n",
       "    .dataframe thead th {\n",
       "        text-align: right;\n",
       "    }\n",
       "</style>\n",
       "<table border=\"1\" class=\"dataframe\">\n",
       "  <thead>\n",
       "    <tr style=\"text-align: right;\">\n",
       "      <th></th>\n",
       "      <th>URL_ID</th>\n",
       "      <th>Title</th>\n",
       "      <th>Author</th>\n",
       "      <th>Date</th>\n",
       "      <th>Text</th>\n",
       "      <th>Source</th>\n",
       "      <th>Text Length</th>\n",
       "      <th>Title Length</th>\n",
       "    </tr>\n",
       "  </thead>\n",
       "  <tbody>\n",
       "    <tr>\n",
       "      <th>count</th>\n",
       "      <td>3</td>\n",
       "      <td>3</td>\n",
       "      <td>3</td>\n",
       "      <td>3</td>\n",
       "      <td>3</td>\n",
       "      <td>3</td>\n",
       "      <td>3</td>\n",
       "      <td>3</td>\n",
       "    </tr>\n",
       "    <tr>\n",
       "      <th>unique</th>\n",
       "      <td>1</td>\n",
       "      <td>1</td>\n",
       "      <td>1</td>\n",
       "      <td>1</td>\n",
       "      <td>1</td>\n",
       "      <td>1</td>\n",
       "      <td>1</td>\n",
       "      <td>1</td>\n",
       "    </tr>\n",
       "    <tr>\n",
       "      <th>top</th>\n",
       "      <td>True</td>\n",
       "      <td>True</td>\n",
       "      <td>True</td>\n",
       "      <td>True</td>\n",
       "      <td>False</td>\n",
       "      <td>True</td>\n",
       "      <td>False</td>\n",
       "      <td>True</td>\n",
       "    </tr>\n",
       "    <tr>\n",
       "      <th>freq</th>\n",
       "      <td>3</td>\n",
       "      <td>3</td>\n",
       "      <td>3</td>\n",
       "      <td>3</td>\n",
       "      <td>3</td>\n",
       "      <td>3</td>\n",
       "      <td>3</td>\n",
       "      <td>3</td>\n",
       "    </tr>\n",
       "  </tbody>\n",
       "</table>\n",
       "</div>"
      ],
      "text/plain": [
       "       URL_ID Title Author  Date   Text Source Text Length Title Length\n",
       "count       3     3      3     3      3      3           3            3\n",
       "unique      1     1      1     1      1      1           1            1\n",
       "top      True  True   True  True  False   True       False         True\n",
       "freq        3     3      3     3      3      3           3            3"
      ]
     },
     "execution_count": 807,
     "metadata": {},
     "output_type": "execute_result"
    }
   ],
   "source": [
    "# Previously scraped data should be the same as freshly scraped data\n",
    "(scraped_data == reports).describe()"
   ]
  },
  {
   "cell_type": "code",
   "execution_count": 808,
   "id": "425ea347-ea58-460a-bd44-828adefd8f82",
   "metadata": {
    "tags": []
   },
   "outputs": [
    {
     "data": {
      "text/html": [
       "<div>\n",
       "<style scoped>\n",
       "    .dataframe tbody tr th:only-of-type {\n",
       "        vertical-align: middle;\n",
       "    }\n",
       "\n",
       "    .dataframe tbody tr th {\n",
       "        vertical-align: top;\n",
       "    }\n",
       "\n",
       "    .dataframe thead th {\n",
       "        text-align: right;\n",
       "    }\n",
       "</style>\n",
       "<table border=\"1\" class=\"dataframe\">\n",
       "  <thead>\n",
       "    <tr style=\"text-align: right;\">\n",
       "      <th></th>\n",
       "      <th>Unnamed: 0</th>\n",
       "      <th>URL_ID</th>\n",
       "      <th>Title</th>\n",
       "      <th>Author</th>\n",
       "      <th>Date</th>\n",
       "      <th>Text</th>\n",
       "      <th>Source</th>\n",
       "      <th>Text Length</th>\n",
       "      <th>Title Length</th>\n",
       "      <th>sentiment_score</th>\n",
       "    </tr>\n",
       "  </thead>\n",
       "  <tbody>\n",
       "    <tr>\n",
       "      <th>0</th>\n",
       "      <td>0</td>\n",
       "      <td>https://www.polygon.com/reviews/2020/10/28/215...</td>\n",
       "      <td>Watch Dogs: Legion’s cast of randos makes a su...</td>\n",
       "      <td>Owen S. Good</td>\n",
       "      <td>\\n  Oct 28, 2020,  7:01am EDT\\n</td>\n",
       "      <td>Filed under: Play it with permadeath stakes, o...</td>\n",
       "      <td>Watchdogs Legion</td>\n",
       "      <td>166</td>\n",
       "      <td>11</td>\n",
       "      <td>0.96</td>\n",
       "    </tr>\n",
       "    <tr>\n",
       "      <th>1</th>\n",
       "      <td>1</td>\n",
       "      <td>https://www.polygon.com/reviews/2018/10/25/180...</td>\n",
       "      <td>Red Dead Redemption 2 review</td>\n",
       "      <td>Chris Plante</td>\n",
       "      <td>\\n  Oct 26, 2018, 10:06am EDT\\n</td>\n",
       "      <td>Filed under: Red Dead Redemption 2 is one of t...</td>\n",
       "      <td>Red Dead Redemption 2</td>\n",
       "      <td>172</td>\n",
       "      <td>5</td>\n",
       "      <td>-0.95</td>\n",
       "    </tr>\n",
       "    <tr>\n",
       "      <th>2</th>\n",
       "      <td>2</td>\n",
       "      <td>https://www.polygon.com/reviews/2020/7/14/2132...</td>\n",
       "      <td>Ghost of Tsushima review: You’ve played this b...</td>\n",
       "      <td>Carolyn Petit</td>\n",
       "      <td>\\n  Jul 14, 2020, 10:00am EDT\\n</td>\n",
       "      <td>Filed under: A great setting let down by rote ...</td>\n",
       "      <td>Ghost Of Tshushima</td>\n",
       "      <td>161</td>\n",
       "      <td>8</td>\n",
       "      <td>0.93</td>\n",
       "    </tr>\n",
       "  </tbody>\n",
       "</table>\n",
       "</div>"
      ],
      "text/plain": [
       "   Unnamed: 0                                             URL_ID  \\\n",
       "0           0  https://www.polygon.com/reviews/2020/10/28/215...   \n",
       "1           1  https://www.polygon.com/reviews/2018/10/25/180...   \n",
       "2           2  https://www.polygon.com/reviews/2020/7/14/2132...   \n",
       "\n",
       "                                               Title         Author  \\\n",
       "0  Watch Dogs: Legion’s cast of randos makes a su...   Owen S. Good   \n",
       "1                       Red Dead Redemption 2 review   Chris Plante   \n",
       "2  Ghost of Tsushima review: You’ve played this b...  Carolyn Petit   \n",
       "\n",
       "                              Date  \\\n",
       "0  \\n  Oct 28, 2020,  7:01am EDT\\n   \n",
       "1  \\n  Oct 26, 2018, 10:06am EDT\\n   \n",
       "2  \\n  Jul 14, 2020, 10:00am EDT\\n   \n",
       "\n",
       "                                                Text                 Source  \\\n",
       "0  Filed under: Play it with permadeath stakes, o...       Watchdogs Legion   \n",
       "1  Filed under: Red Dead Redemption 2 is one of t...  Red Dead Redemption 2   \n",
       "2  Filed under: A great setting let down by rote ...     Ghost Of Tshushima   \n",
       "\n",
       "   Text Length  Title Length  sentiment_score  \n",
       "0          166            11             0.96  \n",
       "1          172             5            -0.95  \n",
       "2          161             8             0.93  "
      ]
     },
     "execution_count": 808,
     "metadata": {},
     "output_type": "execute_result"
    }
   ],
   "source": [
    "reviews.head()"
   ]
  },
  {
   "cell_type": "code",
   "execution_count": 809,
   "id": "297de895-936b-4054-8611-2a7a3087beee",
   "metadata": {},
   "outputs": [
    {
     "data": {
      "text/plain": [
       "(3, 10)"
      ]
     },
     "execution_count": 809,
     "metadata": {},
     "output_type": "execute_result"
    }
   ],
   "source": [
    "reviews.shape"
   ]
  },
  {
   "cell_type": "markdown",
   "id": "bc213a73-c6ae-419a-849d-b9a7fcd15972",
   "metadata": {},
   "source": [
    "<h4>plotFreq function is created to receive parameters and create a graph using them.</h4>"
   ]
  },
  {
   "cell_type": "code",
   "execution_count": 810,
   "id": "3405a7b1-17bc-4900-9fec-84bfbfeef126",
   "metadata": {},
   "outputs": [],
   "source": [
    "def plotfreq(x, title=\"\"):\n",
    "    # Flatten list of lists\n",
    "    flat = []\n",
    "    for i in x:\n",
    "        flat += i\n",
    "        \n",
    "    # Get freq distribution of tokens\n",
    "    f = nltk.FreqDist(flat)\n",
    "    \n",
    "    # Plot freq dist\n",
    "    plt.figure(figsize=(12,3))\n",
    "    \n",
    "    plt.title(title)\n",
    "    f.plot()"
   ]
  },
  {
   "cell_type": "code",
   "execution_count": 811,
   "id": "e8f611aa-99b7-467a-abdb-a67fb3c4b642",
   "metadata": {},
   "outputs": [],
   "source": [
    "labels = reviews.sentiment_score.values"
   ]
  },
  {
   "cell_type": "markdown",
   "id": "7094655b-498f-4753-981c-f3b5631e8c60",
   "metadata": {},
   "source": [
    "<h4>A bar chart is used to visualize the sentiment of each review.</h4>"
   ]
  },
  {
   "cell_type": "code",
   "execution_count": 812,
   "id": "afafa3f0-15a7-43e1-bec0-06e958443219",
   "metadata": {},
   "outputs": [
    {
     "data": {
      "image/png": "[encoded data removed]",
      "text/plain": [
       "<Figure size 720x432 with 1 Axes>"
      ]
     },
     "metadata": {},
     "output_type": "display_data"
    }
   ],
   "source": [
    "plt.figure(figsize=(10,6))\n",
    "plt.bar(height=reviews.sentiment_score.value_counts(),\n",
    "        x=reviews.sentiment_score.unique())\n",
    "plt.show()"
   ]
  },
  {
   "cell_type": "markdown",
   "id": "311a3b43-2fc3-42af-b7c7-be554bd4387c",
   "metadata": {},
   "source": [
    "<h4>The 2nd review is displayed before the data cleaning begins.</h4>"
   ]
  },
  {
   "cell_type": "code",
   "execution_count": 813,
   "id": "b86a9d5d-1a03-4713-9b30-2d3fadfb0b74",
   "metadata": {},
   "outputs": [
    {
     "name": "stderr",
     "output_type": "stream",
     "text": [
      "[nltk_data] Downloading package wordnet to\n",
      "[nltk_data]     /Users/rafayshahood/nltk_data...\n",
      "[nltk_data]   Package wordnet is already up-to-date!\n"
     ]
    },
    {
     "data": {
      "text/plain": [
       "'Filed under: Red Dead Redemption 2 is one of the weirdest, most ambitious and confounding big-budget games of this decade Early in Red Dead Redemption 2, I meet a has-been gunslinger crumpled over a grimy bar in a livestock town on the outer fringe of the American West. He goes by Boy Calloway, but the codger’s a long way from that persona geographically, temporally, mentally. Aside Calloway sits his would-be biographer, in need of my services. Unable to squeeze a cogent anecdote from this puckered lemon, the author requests that I locate the living members of Calloway’s crew to gather stories of his former greatness, or strike dead those who would dispute the book’s “authenticity.” The assignment — like much of the game —  is optional, but I take it, figuring I’ll meet some legendary cowboys and gunslingers. That’s not quite what happens. Red Dead Redemption 2 is a prequel to the 2010 open-world Western, but I hesitate to say that it shares the genre. Like Calloway’s quest, the game '"
      ]
     },
     "execution_count": 813,
     "metadata": {},
     "output_type": "execute_result"
    }
   ],
   "source": [
    "nltk.download('wordnet')\n",
    "\n",
    "original_text = reviews.Text\n",
    "original_text[1]\n"
   ]
  },
  {
   "cell_type": "markdown",
   "id": "37e71c47-a447-46de-9f72-7c6caca85ed4",
   "metadata": {},
   "source": [
    "<h4>The special characters are removed. </h4>"
   ]
  },
  {
   "cell_type": "code",
   "execution_count": 814,
   "id": "26ac46dd-817d-4ba4-a6bf-dcf232d17b1b",
   "metadata": {},
   "outputs": [
    {
     "data": {
      "text/plain": [
       "'Filed under A great setting let down by rote design Ghost of Tsushima the new openworld adventure from Infamous developer Sucker Punch Productions has a wonderful asset in the island setting that gives the game its name This fictionalized version of Tsushima is a vast beautiful place thankfully not limited by strict adherence to historical or geographical accuracy but instead tinged with myth and magic Unfortunately the gameplay that takes up your time on Tsushima is overly safe and familiar resulting in a game thats packed with lovely spots to discover and offers moments of peaceful reflection yet still struggles to differentiate itself from numerous other openworld adventures Ghost of Tsushima begins as an era of stability and prosperity for the samurai ends The game is set in  the year of the first Mongol invasion of Japan The intelligent and brutal Mongol chieftain Khotun Khan a fictional figure positioned here as the grandson of Genghis Khan aims to use the'"
      ]
     },
     "execution_count": 814,
     "metadata": {},
     "output_type": "execute_result"
    }
   ],
   "source": [
    "#Removing special character\n",
    "special_char_remove = [re.sub('[^A-Za-z \\']+', '', text) for text in original_text]\n",
    "special_char_remove[2]"
   ]
  },
  {
   "cell_type": "markdown",
   "id": "c64e90d1-056f-462e-81fa-ae0c071910db",
   "metadata": {},
   "source": [
    "<h4>The text from the review is lower cased using the lower function and then the tokenization of the text is done.\n",
    "After that the tokezied text is visualy represented using a graph. </h4>"
   ]
  },
  {
   "cell_type": "code",
   "execution_count": 815,
   "id": "ba75129c-ab1d-4d89-b9cb-c4a86eba5f07",
   "metadata": {},
   "outputs": [
    {
     "data": {
      "image/png": "[encoded data removed]",
      "text/plain": [
       "<Figure size 864x216 with 1 Axes>"
      ]
     },
     "metadata": {},
     "output_type": "display_data"
    }
   ],
   "source": [
    "#Normalize the casing\n",
    "lowered_text=[text.lower() for text in special_char_remove]\n",
    "lowered_text[0]\n",
    "\n",
    "#tokenize\n",
    "tokenized_text=[word_tokenize(text) for text in lowered_text]\n",
    "tokenized_text[0]\n",
    "\n",
    "plotfreq(tokenized_text[:1])"
   ]
  },
  {
   "cell_type": "markdown",
   "id": "dfa120ed-8590-4844-9055-237f8d31015a",
   "metadata": {},
   "source": [
    "<h4>Punctiation is removed from the tokenized text.</h4>"
   ]
  },
  {
   "cell_type": "code",
   "execution_count": 816,
   "id": "ff9ce85d-289d-4e9e-b4f1-703620d4e3ed",
   "metadata": {},
   "outputs": [
    {
     "data": {
      "text/plain": [
       "['filed',\n",
       " 'under',\n",
       " 'play',\n",
       " 'it',\n",
       " 'with',\n",
       " 'permadeath',\n",
       " 'stakes',\n",
       " 'on',\n",
       " 'hard',\n",
       " 'difficulty',\n",
       " 'watch',\n",
       " 'dogs',\n",
       " 'legions',\n",
       " 'elevator',\n",
       " 'pitch',\n",
       " 'to',\n",
       " 'the',\n",
       " 'player',\n",
       " 'gave',\n",
       " 'me',\n",
       " 'pause',\n",
       " 'play',\n",
       " 'as',\n",
       " 'anyone',\n",
       " 'say',\n",
       " 'the',\n",
       " 'marketers',\n",
       " 'touting',\n",
       " 'your',\n",
       " 'ability',\n",
       " 'to',\n",
       " 'recruit',\n",
       " 'literally',\n",
       " 'anyone',\n",
       " 'you',\n",
       " 'meet',\n",
       " 'on',\n",
       " 'the',\n",
       " 'street',\n",
       " 'to',\n",
       " 'your',\n",
       " 'cyberhacktivist',\n",
       " 'cause',\n",
       " 'thats',\n",
       " 'great',\n",
       " 'but',\n",
       " 'absent',\n",
       " 'prewritten',\n",
       " 'player',\n",
       " 'characters',\n",
       " 'developing',\n",
       " 'in',\n",
       " 'and',\n",
       " 'changed',\n",
       " 'by',\n",
       " 'a',\n",
       " 'narrative',\n",
       " 'would',\n",
       " 'that',\n",
       " 'mean',\n",
       " 'id',\n",
       " 'care',\n",
       " 'about',\n",
       " 'no',\n",
       " 'one',\n",
       " 'then',\n",
       " 'blake',\n",
       " 'mccleary',\n",
       " 'my',\n",
       " 'yearold',\n",
       " 'industrial',\n",
       " 'designer',\n",
       " 'chugged',\n",
       " 'a',\n",
       " 'couple',\n",
       " 'of',\n",
       " 'eisbocks',\n",
       " 'in',\n",
       " 'a',\n",
       " 'pub',\n",
       " 'in',\n",
       " 'southwark',\n",
       " 'threw',\n",
       " 'a',\n",
       " 'round',\n",
       " 'of',\n",
       " 'darts',\n",
       " 'and',\n",
       " 'went',\n",
       " 'off',\n",
       " 'to',\n",
       " 'his',\n",
       " 'next',\n",
       " 'assignment',\n",
       " 'for',\n",
       " 'dedsec',\n",
       " 'mccleary',\n",
       " 'was',\n",
       " 'assigned',\n",
       " 'to',\n",
       " 'rescue',\n",
       " 'lydia',\n",
       " 'anderson',\n",
       " 'a',\n",
       " 'stage',\n",
       " 'magician',\n",
       " 'whose',\n",
       " 'talent',\n",
       " 'is',\n",
       " 'using',\n",
       " 'hypnosis',\n",
       " 'to',\n",
       " 'turn',\n",
       " 'a',\n",
       " 'foe',\n",
       " 'friendly',\n",
       " 'anderson',\n",
       " 'is',\n",
       " 'also',\n",
       " 'a',\n",
       " 'gambling',\n",
       " 'addict',\n",
       " 'with',\n",
       " 'bad',\n",
       " 'debts',\n",
       " 'which',\n",
       " 'led',\n",
       " 'to',\n",
       " 'her',\n",
       " 'kidnapping',\n",
       " 'mccleary',\n",
       " 'easily',\n",
       " 'slipped',\n",
       " 'inside',\n",
       " 'the',\n",
       " 'gangster',\n",
       " 'hideout',\n",
       " 'where',\n",
       " 'anderson',\n",
       " 'was',\n",
       " 'being',\n",
       " 'held',\n",
       " 'the',\n",
       " 'core',\n",
       " 'gameplay',\n",
       " 'loop',\n",
       " 'of',\n",
       " 'watch',\n",
       " 'dogs',\n",
       " 'legion',\n",
       " 'sneak',\n",
       " 'around',\n",
       " 'get',\n",
       " 'the',\n",
       " 'drop',\n",
       " 'on',\n",
       " 'the',\n",
       " 'goons',\n",
       " 'stroll',\n",
       " 'out',\n",
       " 'triumphantly',\n",
       " 'is',\n",
       " 'enjoyable',\n",
       " 'eno']"
      ]
     },
     "execution_count": 816,
     "metadata": {},
     "output_type": "execute_result"
    }
   ],
   "source": [
    "from string import punctuation\n",
    "\n",
    "#Remove punctuation single quote\n",
    "punct_removed=[]\n",
    "for words in tokenized_text:\n",
    "    punct_removed.append([word for word in words if word not in punctuation])\n",
    "punct_removed[0]\n"
   ]
  },
  {
   "cell_type": "markdown",
   "id": "533c51b8-def1-4dbe-9f91-d234193b6516",
   "metadata": {},
   "source": [
    "<h4>The graph after punctuation is shown which can be compared to the earlier graph of the tokenized text.</h4>"
   ]
  },
  {
   "cell_type": "code",
   "execution_count": 817,
   "id": "1197179a-0b2a-4486-8c8a-96462caa890d",
   "metadata": {},
   "outputs": [
    {
     "data": {
      "image/png": "[encoded data removed]",
      "text/plain": [
       "<Figure size 864x216 with 1 Axes>"
      ]
     },
     "metadata": {},
     "output_type": "display_data"
    }
   ],
   "source": [
    "plotfreq(punct_removed[:1])"
   ]
  },
  {
   "cell_type": "markdown",
   "id": "7ae355c5-04db-4592-923d-d5b2e33d4b53",
   "metadata": {},
   "source": [
    "<h4>Stopwords are now being removed from the tokenized text.</h4>"
   ]
  },
  {
   "cell_type": "code",
   "execution_count": 818,
   "id": "2b7ff0d9-3bf0-431a-960e-32d493d2b3a2",
   "metadata": {},
   "outputs": [],
   "source": [
    "from nltk.corpus import stopwords\n",
    "stop_words = stopwords.words('english')\n",
    "\n",
    "stopwords_removed_tokens = []\n",
    "for words in punct_removed:\n",
    "    cleaned = [word for word in words if word not in stop_words]\n",
    "    stopwords_removed_tokens.append(cleaned)"
   ]
  },
  {
   "cell_type": "markdown",
   "id": "4b3e663d-3555-4f23-95d1-4487bc0c05a3",
   "metadata": {},
   "source": [
    "<h4>Graph representation of tokenized text is shown after punctuation,special characters and stopwords are removed</h4>"
   ]
  },
  {
   "cell_type": "code",
   "execution_count": 819,
   "id": "cf55bf80-1c05-4d39-b7b9-4465b952adfa",
   "metadata": {},
   "outputs": [
    {
     "data": {
      "image/png": "[encoded data removed]",
      "text/plain": [
       "<Figure size 864x216 with 1 Axes>"
      ]
     },
     "metadata": {},
     "output_type": "display_data"
    }
   ],
   "source": [
    "plotfreq(stopwords_removed_tokens[:1])"
   ]
  },
  {
   "cell_type": "markdown",
   "id": "b0007662-a727-4d18-99d4-afdd2fcc6226",
   "metadata": {},
   "source": [
    "<h4>The tokenized text is lemmatized</h4>"
   ]
  },
  {
   "cell_type": "code",
   "execution_count": 820,
   "id": "67f5e0d1-9a20-4ddc-a90f-73e242354a32",
   "metadata": {},
   "outputs": [
    {
     "name": "stdout",
     "output_type": "stream",
     "text": [
      "['filed', 'play', 'permadeath', 'stake', 'hard', 'difficulty', 'watch', 'dog', 'legion', 'elevator', 'pitch', 'player', 'gave', 'pause', 'play', 'anyone', 'say', 'marketer', 'touting', 'ability', 'recruit', 'literally', 'anyone', 'meet', 'street', 'cyberhacktivist', 'cause', 'thats', 'great', 'absent', 'prewritten', 'player', 'character', 'developing', 'changed', 'narrative', 'would', 'mean', 'id', 'care', 'one', 'blake', 'mccleary', 'yearold', 'industrial', 'designer', 'chugged', 'couple', 'eisbocks', 'pub', 'southwark', 'threw', 'round', 'dart', 'went', 'next', 'assignment', 'dedsec', 'mccleary', 'assigned', 'rescue', 'lydia', 'anderson', 'stage', 'magician', 'whose', 'talent', 'using', 'hypnosis', 'turn', 'foe', 'friendly', 'anderson', 'also', 'gambling', 'addict', 'bad', 'debt', 'led', 'kidnapping', 'mccleary', 'easily', 'slipped', 'inside', 'gangster', 'hideout', 'anderson', 'held', 'core', 'gameplay', 'loop', 'watch', 'dog', 'legion', 'sneak', 'around', 'get', 'drop', 'goon', 'stroll', 'triumphantly', 'enjoyable', 'eno']\n"
     ]
    }
   ],
   "source": [
    "#Lemmatization\n",
    "lemmatized_tokens = []\n",
    "for words in stopwords_removed_tokens:\n",
    "    cleaned = [lemmatizer.lemmatize(word) for word in words]\n",
    "    lemmatized_tokens.append(cleaned)\n",
    "print(lemmatized_tokens[0])"
   ]
  },
  {
   "cell_type": "markdown",
   "id": "5ddee380-412a-4685-a98a-0bf5799160bf",
   "metadata": {},
   "source": [
    "<h4>Graph representation of tokenized text after lemmatization.</h4>"
   ]
  },
  {
   "cell_type": "code",
   "execution_count": 821,
   "id": "93e739b1-5277-47b4-8940-b4a544491a56",
   "metadata": {},
   "outputs": [
    {
     "data": {
      "image/png": "[encoded data removed]",
      "text/plain": [
       "<Figure size 864x216 with 1 Axes>"
      ]
     },
     "metadata": {},
     "output_type": "display_data"
    }
   ],
   "source": [
    "plotfreq(stopwords_removed_tokens[:1])"
   ]
  },
  {
   "cell_type": "markdown",
   "id": "88763cfe-2a1a-42b6-a61e-178748cd1a05",
   "metadata": {},
   "source": [
    "<h4>The text is now cleaned and now it is joined again.</h4>"
   ]
  },
  {
   "cell_type": "code",
   "execution_count": 822,
   "id": "2d0ec8dc-c5fb-463b-b61a-67d527547aa0",
   "metadata": {},
   "outputs": [
    {
     "data": {
      "text/plain": [
       "'filed under play it with permadeath stakes on hard difficulty watch dogs legions elevator pitch to the player gave me pause play as anyone say the marketers touting your ability to recruit literally anyone you meet on the street to your cyberhacktivist cause thats great but absent prewritten player characters developing in and changed by a narrative would that mean id care about no one then blake mccleary my yearold industrial designer chugged a couple of eisbocks in a pub in southwark threw a round of darts and went off to his next assignment for dedsec mccleary was assigned to rescue lydia anderson a stage magician whose talent is using hypnosis to turn a foe friendly anderson is also a gambling addict with bad debts which led to her kidnapping mccleary easily slipped inside the gangster hideout where anderson was being held the core gameplay loop of watch dogs legion sneak around get the drop on the goons stroll out triumphantly is enjoyable eno'"
      ]
     },
     "execution_count": 822,
     "metadata": {},
     "output_type": "execute_result"
    }
   ],
   "source": [
    "#Flatten\n",
    "cleaned_phrases_reviews=[]\n",
    "for text in punct_removed:\n",
    "    cleaned_phrases_reviews.append(\" \".join(word for word in text))\n",
    "cleaned_phrases_reviews[0]"
   ]
  },
  {
   "cell_type": "code",
   "execution_count": 823,
   "id": "33556d32-ca48-4ea7-b0e8-ca680feba55c",
   "metadata": {},
   "outputs": [],
   "source": [
    "#validation set\n",
    "x_reviews, x_val, y_reviews, y_val = train_test_split(cleaned_phrases_reviews, labels, test_size=0.10, random_state=10)"
   ]
  },
  {
   "cell_type": "markdown",
   "id": "9609dbc9-0c38-49c9-bcee-cb717edec806",
   "metadata": {},
   "source": [
    "<h4>Data is being prepared for further visual representation.</h4>"
   ]
  },
  {
   "cell_type": "code",
   "execution_count": 824,
   "id": "6a2419ef-cad2-4024-8253-b30b9b1777a5",
   "metadata": {},
   "outputs": [
    {
     "data": {
      "text/plain": [
       "((2, 200), (2,), (1, 200), (1,))"
      ]
     },
     "execution_count": 824,
     "metadata": {},
     "output_type": "execute_result"
    }
   ],
   "source": [
    "#Training features and labels\n",
    "#Padding Sequences\n",
    "labels=reviews.sentiment_score.values\n",
    "tokenizer = Tokenizer(num_words=20000)\n",
    "tokenizer.fit_on_texts(x_reviews)\n",
    "sequences = tokenizer.texts_to_sequences(x_reviews)\n",
    "x_reviews=pad_sequences(sequences, maxlen=200)\n",
    "sequences = tokenizer.texts_to_sequences(x_val)\n",
    "x_val=pad_sequences(sequences, maxlen=200)\n",
    "x_reviews.shape, y_reviews.shape, x_val.shape, y_val.shape"
   ]
  },
  {
   "cell_type": "markdown",
   "id": "5618fa1c-2200-47d7-9dc3-c66653bcde1e",
   "metadata": {},
   "source": [
    "<h4>Useful information is dispalyed using the tensorflow library modules.</h4>"
   ]
  },
  {
   "cell_type": "code",
   "execution_count": 825,
   "id": "2f5d66c6-2d8f-4a5e-b067-d42487ed500a",
   "metadata": {},
   "outputs": [
    {
     "name": "stdout",
     "output_type": "stream",
     "text": [
      "Model: \"sequential_17\"\n",
      "_________________________________________________________________\n",
      " Layer (type)                Output Shape              Param #   \n",
      "=================================================================\n",
      " embedding_16 (Embedding)    (None, 200, 32)           640000    \n",
      "                                                                 \n",
      " bidirectional_16 (Bidirecti  (None, 128)              49664     \n",
      " onal)                                                           \n",
      "                                                                 \n",
      " flatten_16 (Flatten)        (None, 128)               0         \n",
      "                                                                 \n",
      " dense_46 (Dense)            (None, 10)                1290      \n",
      "                                                                 \n",
      " batch_normalization_30 (Bat  (None, 10)               40        \n",
      " chNormalization)                                                \n",
      "                                                                 \n",
      " dropout_30 (Dropout)        (None, 10)                0         \n",
      "                                                                 \n",
      " dense_47 (Dense)            (None, 3)                 33        \n",
      "                                                                 \n",
      " dense_48 (Dense)            (None, 10)                40        \n",
      "                                                                 \n",
      " batch_normalization_31 (Bat  (None, 10)               40        \n",
      " chNormalization)                                                \n",
      "                                                                 \n",
      " dropout_31 (Dropout)        (None, 10)                0         \n",
      "                                                                 \n",
      "=================================================================\n",
      "Total params: 691,107\n",
      "Trainable params: 691,067\n",
      "Non-trainable params: 40\n",
      "_________________________________________________________________\n"
     ]
    }
   ],
   "source": [
    "model=Sequential()\n",
    "model.add(Embedding(20000, 32, input_length=x_reviews.shape[1])),\n",
    "model.add(Bidirectional(LSTM(64,  activation='relu'))),\n",
    "\n",
    "model.add(Flatten())\n",
    "\n",
    "model.add(Dense(10, activation='relu'))\n",
    "model.add(BatchNormalization())\n",
    "model.add(Dropout(0.2))\n",
    "\n",
    "model.add(Dense(3, activation='softmax'))\n",
    "\n",
    "\n",
    "model.add(Dense(10, activation='relu'))\n",
    "model.add(BatchNormalization())\n",
    "model.add(Dropout(0.2))\n",
    "\n",
    "model.summary() "
   ]
  },
  {
   "cell_type": "code",
   "execution_count": 826,
   "id": "b2d3ceba-b4c7-4d38-8e70-ca5f26aa5602",
   "metadata": {},
   "outputs": [
    {
     "data": {
      "text/html": [
       "<svg  width=\"165\" height=\"55\"><rect x=\"0\" y=\"0\" width=\"55\" height=\"55\" style=\"fill:#dc143c;stroke-width:2;stroke:rgb(255,255,255)\"/><rect x=\"55\" y=\"0\" width=\"55\" height=\"55\" style=\"fill:#6e538e;stroke-width:2;stroke:rgb(255,255,255)\"/><rect x=\"110\" y=\"0\" width=\"55\" height=\"55\" style=\"fill:#008b8b;stroke-width:2;stroke:rgb(255,255,255)\"/></svg>"
      ],
      "text/plain": [
       "[(0.8627450980392157, 0.0784313725490196, 0.23529411764705882),\n",
       " (0.43247981545559394, 0.3273356401384083, 0.55760092272203),\n",
       " (0.0, 0.5450980392156862, 0.5450980392156862)]"
      ]
     },
     "execution_count": 826,
     "metadata": {},
     "output_type": "execute_result"
    }
   ],
   "source": [
    "# Create a colour palette for graphs where we want to differenciate the four different publications\n",
    "\n",
    "colorOptions = sns.blend_palette(['crimson', 'blue', 'goldenrod', 'darkcyan'], 3)\n",
    "\n",
    "colorOptions"
   ]
  },
  {
   "cell_type": "markdown",
   "id": "fc0d593a-433f-41a7-a5bc-bbba38ee7a40",
   "metadata": {},
   "source": [
    "<h4>A graph is plotted representing sentiment score of different articles.</h4>"
   ]
  },
  {
   "cell_type": "code",
   "execution_count": 827,
   "id": "5a626906-5552-4d09-af33-93f2a3616d18",
   "metadata": {},
   "outputs": [
    {
     "data": {
      "image/png": "[encoded data removed]",
      "text/plain": [
       "<Figure size 1080x720 with 1 Axes>"
      ]
     },
     "metadata": {},
     "output_type": "display_data"
    }
   ],
   "source": [
    "plt.gcf().set_size_inches(15, 10)\n",
    "\n",
    "ax = sns.boxplot(x='Title', y='sentiment_score', data=reviews, palette=colorOptions)\n"
   ]
  },
  {
   "cell_type": "markdown",
   "id": "1edaf446-9254-4763-a348-d8c70e1c0a47",
   "metadata": {},
   "source": [
    "<h3>Project Conclusion</h3>\n",
    "<ul>\n",
    "  <li>The data is scraped from the website and saved in local csv file.</li>\n",
    "  <li>The data from the local file is the imported.</li>\n",
    "  <li>The original text is processed and cleaned by removing punctuations, special character, lower cased, removing stopwards, tokenizing and lammantizing.</li>\n",
    "    <li>Using these techniques sentiment analysis is done.</li>\n",
    "    <li>Graphical representations are shown frequently to show the outcome.</li>\n",
    "</ul>"
   ]
  },
  {
   "cell_type": "markdown",
   "id": "d60d7885-97c8-44bf-967a-1e2f71c90aa5",
   "metadata": {},
   "source": [
    "<h3>References</h3>\n",
    "<ul>\n",
    "    <li>For web scrapping and importing data I used: Example report: Journalistic Voice Project Proposal</li>\n",
    "    <li>For data processing and data cleaning I used: https://www.kaggle.com/code/dianalaveena/sentiment-analysis-on-movie-reviews/notebook</li>\n",
    "    <li>Labs and videos from Dr Sean McGrath on coursera</li>    \n",
    "    <li>To find sentiment score I used: https://www.analyticsvidhya.com/blog/2021/12/different-methods-for-calculating-sentiment-score-of-text/</li>   \n",
    "</ul"
   ]
  }
 ],
 "metadata": {
  "kernelspec": {
   "display_name": "Python 3 (ipykernel)",
   "language": "python",
   "name": "python3"
  },
  "language_info": {
   "codemirror_mode": {
    "name": "ipython",
    "version": 3
   },
   "file_extension": ".py",
   "mimetype": "text/x-python",
   "name": "python",
   "nbconvert_exporter": "python",
   "pygments_lexer": "ipython3",
   "version": "3.8.9"
  }
 },
 "nbformat": 4,
 "nbformat_minor": 5
}
